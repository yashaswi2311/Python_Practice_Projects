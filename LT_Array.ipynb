{
  "nbformat": 4,
  "nbformat_minor": 0,
  "metadata": {
    "colab": {
      "name": "LT_Array.ipynb",
      "provenance": [],
      "authorship_tag": "ABX9TyOH9ViVr+Y/Nav4pxaxY0K/",
      "include_colab_link": true
    },
    "kernelspec": {
      "name": "python3",
      "display_name": "Python 3"
    }
  },
  "cells": [
    {
      "cell_type": "markdown",
      "metadata": {
        "id": "view-in-github",
        "colab_type": "text"
      },
      "source": [
        "<a href=\"https://colab.research.google.com/github/yashaswi2311/Python_Practice_Projects/blob/master/LT_Array.ipynb\" target=\"_parent\"><img src=\"https://colab.research.google.com/assets/colab-badge.svg\" alt=\"Open In Colab\"/></a>"
      ]
    },
    {
      "cell_type": "code",
      "metadata": {
        "id": "xdz8j7TGfDaG",
        "outputId": "cf20dbcb-8cc0-45ba-aca1-81c9a214ce6d",
        "colab": {
          "base_uri": "https://localhost:8080/"
        }
      },
      "source": [
        "# Program to demonstrate use of array(), append(), insert(), pop(), remove(), index(), reverse(), \n",
        "\n",
        "import array\n",
        "\n",
        "# Initializing array with array values\n",
        "arr = array.array('i', [1,2,3,4,5])\n",
        "\n",
        "# Printing original array\n",
        "print(\"The new array is :\", end = \" \")\n",
        "for i in range(0,5):\n",
        "  print(arr[i], end = \" \")\n",
        "\n",
        "print(\"\\r\")"
      ],
      "execution_count": 13,
      "outputs": [
        {
          "output_type": "stream",
          "text": [
            "The new array is : 1 2 3 4 5 \r\n"
          ],
          "name": "stdout"
        }
      ]
    },
    {
      "cell_type": "code",
      "metadata": {
        "id": "xj1D1gtECfhh",
        "outputId": "f7351b6f-fae3-4fc3-adff-439367db5a2a",
        "colab": {
          "base_uri": "https://localhost:8080/"
        }
      },
      "source": [
        "# Using append to insert values at the end\n",
        "arr.append(6)\n",
        "# Printing appended array\n",
        "print(\"The appended array is :\", end =\" \")\n",
        "for i in range(0,6):\n",
        "  print(arr[i], end=\" \")\n",
        "print(\"\\r\")"
      ],
      "execution_count": 17,
      "outputs": [
        {
          "output_type": "stream",
          "text": [
            "The appended array is : 0 1 2 3 5 6 \r\n"
          ],
          "name": "stdout"
        }
      ]
    },
    {
      "cell_type": "code",
      "metadata": {
        "id": "5FGSqbH6CmIm",
        "outputId": "941d35a1-b647-4251-b3cf-6d1f711309c1",
        "colab": {
          "base_uri": "https://localhost:8080/"
        }
      },
      "source": [
        "# Using insert() to insert values at a specific position\n",
        "arr.insert(0,0)\n",
        "print(\"The array after insertion is : \", end = \" \")\n",
        "for i in range(0,7):\n",
        "  print(arr[i], end = \" \")\n",
        "\n",
        "print(\"\\r\")"
      ],
      "execution_count": 18,
      "outputs": [
        {
          "output_type": "stream",
          "text": [
            "The array after insertion is :  0 0 1 2 3 5 6 \r\n"
          ],
          "name": "stdout"
        }
      ]
    },
    {
      "cell_type": "code",
      "metadata": {
        "id": "dzzlXlkCDJD2",
        "outputId": "fb7bb764-20f5-489d-b7ab-4e5a96b8caf7",
        "colab": {
          "base_uri": "https://localhost:8080/"
        }
      },
      "source": [
        "# Using pop() to remove element at the position mentioned in the argument\n",
        "print(arr)\n",
        "print(\"The popped element is :\", arr.pop(4))"
      ],
      "execution_count": 19,
      "outputs": [
        {
          "output_type": "stream",
          "text": [
            "array('i', [0, 0, 1, 2, 3, 5, 6, 6])\n",
            "The popped element is : 3\n"
          ],
          "name": "stdout"
        }
      ]
    },
    {
      "cell_type": "code",
      "metadata": {
        "id": "ymgFLoZBDvo5",
        "outputId": "6be9f9a0-cdec-4cd3-966d-9eb94c451095",
        "colab": {
          "base_uri": "https://localhost:8080/"
        }
      },
      "source": [
        "print(\"Array after popping is :\" ,end = \" \")\n",
        "for i in range(0,7):\n",
        "  print(arr[i], end = \" \")\n"
      ],
      "execution_count": 21,
      "outputs": [
        {
          "output_type": "stream",
          "text": [
            "Array after popping is : 0 0 1 2 5 6 6 "
          ],
          "name": "stdout"
        }
      ]
    },
    {
      "cell_type": "code",
      "metadata": {
        "id": "cSI21I4DEQWc",
        "outputId": "f630fbfd-5206-42b9-e626-0e141eae4464",
        "colab": {
          "base_uri": "https://localhost:8080/"
        }
      },
      "source": [
        "# Using remove function to remove the first occurence of the value mentioned in its argument\n",
        "arr.remove(0)\n",
        "print(\"The array after removing:\", end= \" \")\n",
        "for i in range(0,len(arr)-1):\n",
        "  print(arr[i], end = \" \")"
      ],
      "execution_count": 23,
      "outputs": [
        {
          "output_type": "stream",
          "text": [
            "The array after removing: 0 1 2 5 "
          ],
          "name": "stdout"
        }
      ]
    },
    {
      "cell_type": "code",
      "metadata": {
        "id": "ve6LJEmuE3dk",
        "outputId": "d990e362-7e11-4b8e-8614-24e1ec0e4116",
        "colab": {
          "base_uri": "https://localhost:8080/"
        }
      },
      "source": [
        "# Using index() to return the index value of the first occurence of value mentioned in it's argument\n",
        "print(\"The index of first occurence of 5 is :\", end = \" \")\n",
        "print(arr.index(5))"
      ],
      "execution_count": 34,
      "outputs": [
        {
          "output_type": "stream",
          "text": [
            "The index of first occurence of 5 is : 1\n"
          ],
          "name": "stdout"
        }
      ]
    },
    {
      "cell_type": "code",
      "metadata": {
        "id": "5iCTunXIF_Tv",
        "outputId": "069c38df-9d18-458e-bf9f-e31017bde115",
        "colab": {
          "base_uri": "https://localhost:8080/"
        }
      },
      "source": [
        "arr"
      ],
      "execution_count": 37,
      "outputs": [
        {
          "output_type": "execute_result",
          "data": {
            "text/plain": [
              "array('i', [0, 1, 2, 5, 6])"
            ]
          },
          "metadata": {
            "tags": []
          },
          "execution_count": 37
        }
      ]
    },
    {
      "cell_type": "code",
      "metadata": {
        "id": "23AjXp_YFYjC",
        "outputId": "90811c81-53e1-471a-f633-5420350494da",
        "colab": {
          "base_uri": "https://localhost:8080/"
        }
      },
      "source": [
        "# Using reverse() to reverse the array in it's argument\n",
        "arr.reverse()\n",
        "print(\"The reversed array is :\", end = \" \")\n",
        "for i in range(0, len(arr)-1):\n",
        "  print(arr[i], end = \" \")"
      ],
      "execution_count": 38,
      "outputs": [
        {
          "output_type": "stream",
          "text": [
            "The reversed array is : 6 5 2 1 "
          ],
          "name": "stdout"
        }
      ]
    }
  ]
}