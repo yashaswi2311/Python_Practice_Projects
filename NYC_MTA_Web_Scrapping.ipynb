{
  "nbformat": 4,
  "nbformat_minor": 0,
  "metadata": {
    "colab": {
      "name": "NYC_MTA_Web_Scrapping.ipynb",
      "provenance": [],
      "include_colab_link": true
    },
    "kernelspec": {
      "name": "python3",
      "display_name": "Python 3"
    }
  },
  "cells": [
    {
      "cell_type": "markdown",
      "metadata": {
        "id": "view-in-github",
        "colab_type": "text"
      },
      "source": [
        "<a href=\"https://colab.research.google.com/github/yashaswi2311/Python_Practice_Projects/blob/master/NYC_MTA_Web_Scrapping.ipynb\" target=\"_parent\"><img src=\"https://colab.research.google.com/assets/colab-badge.svg\" alt=\"Open In Colab\"/></a>"
      ]
    },
    {
      "cell_type": "code",
      "metadata": {
        "id": "BAqx5Hverl_d",
        "colab_type": "code",
        "colab": {}
      },
      "source": [
        "import requests\n",
        "import urllib.request\n",
        "import time\n",
        "from bs4 import BeautifulSoup\n",
        "\n",
        "# Set the URL you want to webscrape from\n",
        "url = 'http://web.mta.info/developers/turnstile.html'\n",
        "\n",
        "# Connect to the URL\n",
        "response = requests.get(url)\n",
        "\n",
        "# Parse HTML and save to BeautifulSoup object¶\n",
        "soup = BeautifulSoup(response.text, \"html.parser\")\n",
        "\n",
        "# To download the whole data set, let's do a for loop through all a tags\n",
        "for i in range(36,len(soup.findAll('a'))+1): #'a' tags are for links\n",
        "    one_a_tag = soup.findAll('a')[i]\n",
        "    link = one_a_tag['href']\n",
        "    download_url = 'http://web.mta.info/developers/'+ link\n",
        "    urllib.request.urlretrieve(download_url,'./'+link[link.find('/turnstile_')+1:]) \n",
        "    time.sleep(1) #pause the code for a sec"
      ],
      "execution_count": 0,
      "outputs": []
    }
  ]
}